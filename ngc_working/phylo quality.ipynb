{
 "metadata": {
  "name": "phylo quality"
 },
 "nbformat": 3,
 "nbformat_minor": 0,
 "worksheets": [
  {
   "cells": [
    {
     "cell_type": "code",
     "collapsed": false,
     "input": [
      "import dendropy\n",
      "\n",
      "trees = dendropy.TreeList()\n",
      "fin = open(\"turtles-genetrees.steac.trees\",mode='r')\n",
      "trees.read_from_stream(fin,'newick')\n",
      "\n",
      "pairs = [('CroPoros', 'AllMissi'), ('ChrPicta','PelSubru'), ('AnoCarol','ChrPicta')]\n",
      "for p in pairs:\n",
      "    f = trees.frequency_of_split(labels=p)\n",
      "    print('Frequency of split %s: %s' % (p, f))"
     ],
     "language": "python",
     "metadata": {},
     "outputs": [
      {
       "output_type": "stream",
       "stream": "stdout",
       "text": [
        "Frequency of split ('CroPoros', 'AllMissi'): 1.0\n",
        "Frequency of split ('ChrPicta', 'PelSubru'): 1.0\n",
        "Frequency of split ('AnoCarol', 'ChrPicta'): 0.0\n"
       ]
      }
     ],
     "prompt_number": 15
    },
    {
     "cell_type": "code",
     "collapsed": false,
     "input": [],
     "language": "python",
     "metadata": {},
     "outputs": [],
     "prompt_number": 5
    },
    {
     "cell_type": "code",
     "collapsed": false,
     "input": [],
     "language": "python",
     "metadata": {},
     "outputs": [],
     "prompt_number": 6
    },
    {
     "cell_type": "code",
     "collapsed": false,
     "input": [
      "z.read_from_stream?"
     ],
     "language": "python",
     "metadata": {},
     "outputs": [],
     "prompt_number": 4
    },
    {
     "cell_type": "code",
     "collapsed": false,
     "input": [],
     "language": "python",
     "metadata": {},
     "outputs": []
    }
   ],
   "metadata": {}
  }
 ]
}